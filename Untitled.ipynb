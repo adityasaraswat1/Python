{
 "cells": [
  {
   "cell_type": "code",
   "execution_count": null,
   "id": "624aaa85",
   "metadata": {},
   "outputs": [],
   "source": []
  }
 ],
 "metadata": {
  "kernelspec": {
   "display_name": "Python 3",
   "language": "python",
   "name": "python3"
  },
  "language_info": {
   "codemirror_mode": {
    "name": "ipython",
    "version": 3
   },
   "file_extension": ".py",
   "mimetype": "text/x-python",
   "name": "python",
   "nbconvert_exporter": "python",
   "pygments_lexer": "ipython3",
   "version": "3.11.1 (tags/v3.11.1:a7a450f, Dec  6 2022, 19:58:39) [MSC v.1934 64 bit (AMD64)]"
  },
  "vscode": {
   "interpreter": {
    "hash": "367fd5e5ebdf5cfae47f0b23fd095ab9cf0f2ac7272129b0e18e6eb0f7a8d9ca"
   }
  }
 },
 "nbformat": 4,
 "nbformat_minor": 5
}
